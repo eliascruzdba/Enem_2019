{
  "nbformat": 4,
  "nbformat_minor": 0,
  "metadata": {
    "colab": {
      "name": "001 - ML_ENEM.ipynb",
      "provenance": [],
      "toc_visible": true,
      "authorship_tag": "ABX9TyMtQSXE+kTCTQrbvZMtxpkJ",
      "include_colab_link": true
    },
    "kernelspec": {
      "name": "python3",
      "display_name": "Python 3"
    },
    "language_info": {
      "name": "python"
    }
  },
  "cells": [
    {
      "cell_type": "markdown",
      "metadata": {
        "id": "view-in-github",
        "colab_type": "text"
      },
      "source": [
        "<a href=\"https://colab.research.google.com/github/eliascruzdba/Enem_2019/blob/main/001_ML_ENEM.ipynb\" target=\"_parent\"><img src=\"https://colab.research.google.com/assets/colab-badge.svg\" alt=\"Open In Colab\"/></a>"
      ]
    },
    {
      "cell_type": "markdown",
      "source": [
        "# Importação / Divisão Atributos previsores"
      ],
      "metadata": {
        "id": "1dtXpJrnEImV"
      }
    },
    {
      "cell_type": "code",
      "execution_count": 3,
      "metadata": {
        "id": "7375b477"
      },
      "outputs": [],
      "source": [
        "import matplotlib\n",
        "import pandas as pd\n",
        "import numpy as np\n",
        "import seaborn as sns\n",
        "import matplotlib.pyplot as plt\n",
        "import plotly.express as px\n",
        "import warnings\n",
        "warnings.filterwarnings('ignore')\n",
        "from sklearn import metrics"
      ]
    },
    {
      "cell_type": "code",
      "source": [
        "from google.colab import drive\n",
        "drive.mount('/content/drive')"
      ],
      "metadata": {
        "colab": {
          "base_uri": "https://localhost:8080/"
        },
        "id": "t8TuDKUS-mkP",
        "outputId": "b771f989-e5db-4068-f9db-d6aeddc8b69a"
      },
      "execution_count": 4,
      "outputs": [
        {
          "output_type": "stream",
          "name": "stdout",
          "text": [
            "Mounted at /content/drive\n"
          ]
        }
      ]
    },
    {
      "cell_type": "code",
      "source": [
        "colunas = ['NU_INSCRICAO','SG_UF_RESIDENCIA', 'NU_NOTA_MT', 'NU_NOTA_REDACAO', 'Q001', 'Q002', 'Q005','Q006', 'NU_IDADE' ]"
      ],
      "metadata": {
        "id": "y7la1fkk-uwW"
      },
      "execution_count": 5,
      "outputs": []
    },
    {
      "cell_type": "code",
      "source": [
        "microdadosEnem = pd.read_csv(\"/content/drive/MyDrive/Colab Notebooks/Dataframe/df_ENEM_2019.csv\", sep=';', encoding='ISO-8859-1', usecols=colunas)"
      ],
      "metadata": {
        "id": "fGOl8rxu-4Hn"
      },
      "execution_count": 6,
      "outputs": []
    },
    {
      "cell_type": "code",
      "source": [
        "microdadosEnem = microdadosEnem.dropna()"
      ],
      "metadata": {
        "id": "gLRYdgZj-vjK"
      },
      "execution_count": 9,
      "outputs": []
    },
    {
      "cell_type": "code",
      "source": [
        "microdadosEnem.isna().sum()"
      ],
      "metadata": {
        "colab": {
          "base_uri": "https://localhost:8080/"
        },
        "id": "QTEclpEt_U6N",
        "outputId": "29464e06-d47d-4b4c-ec51-bbd652183726"
      },
      "execution_count": 10,
      "outputs": [
        {
          "output_type": "execute_result",
          "data": {
            "text/plain": [
              "NU_INSCRICAO        0\n",
              "SG_UF_RESIDENCIA    0\n",
              "NU_IDADE            0\n",
              "NU_NOTA_MT          0\n",
              "NU_NOTA_REDACAO     0\n",
              "Q001                0\n",
              "Q002                0\n",
              "Q005                0\n",
              "Q006                0\n",
              "dtype: int64"
            ]
          },
          "metadata": {},
          "execution_count": 10
        }
      ]
    },
    {
      "cell_type": "code",
      "source": [
        "y_Enem_MT = microdadosEnem.iloc[:,3].values"
      ],
      "metadata": {
        "id": "PdzkBw1fAA9U"
      },
      "execution_count": 14,
      "outputs": []
    },
    {
      "cell_type": "code",
      "source": [
        "y_Enem_MT"
      ],
      "metadata": {
        "colab": {
          "base_uri": "https://localhost:8080/"
        },
        "id": "QoIA-z96ADC2",
        "outputId": "378dadaa-9c05-4112-81b6-c0778194b684"
      },
      "execution_count": 15,
      "outputs": [
        {
          "output_type": "execute_result",
          "data": {
            "text/plain": [
              "array([392. , 677. , 675.3, ..., 390.7, 498.3, 389.5])"
            ]
          },
          "metadata": {},
          "execution_count": 15
        }
      ]
    },
    {
      "cell_type": "code",
      "source": [
        "y_Enem_RD = microdadosEnem.iloc[:,4].values"
      ],
      "metadata": {
        "id": "XiHElgcrAP_j"
      },
      "execution_count": 16,
      "outputs": []
    },
    {
      "cell_type": "code",
      "source": [
        "y_Enem_RD"
      ],
      "metadata": {
        "colab": {
          "base_uri": "https://localhost:8080/"
        },
        "id": "3kmqGSWiARJ0",
        "outputId": "0d404d64-fa94-473e-92c6-3697b1697850"
      },
      "execution_count": 17,
      "outputs": [
        {
          "output_type": "execute_result",
          "data": {
            "text/plain": [
              "array([460., 860., 800., ..., 460., 540., 280.])"
            ]
          },
          "metadata": {},
          "execution_count": 17
        }
      ]
    },
    {
      "cell_type": "code",
      "source": [
        "X_Enem = microdadosEnem"
      ],
      "metadata": {
        "id": "l_9aBMN6ASs6"
      },
      "execution_count": 18,
      "outputs": []
    },
    {
      "cell_type": "code",
      "source": [
        "del X_Enem['NU_INSCRICAO']\n",
        "del X_Enem['NU_NOTA_MT']\n",
        "del X_Enem['NU_NOTA_REDACAO']"
      ],
      "metadata": {
        "id": "0AvXrVGLAbUb"
      },
      "execution_count": 19,
      "outputs": []
    },
    {
      "cell_type": "code",
      "source": [
        "X_Enem"
      ],
      "metadata": {
        "colab": {
          "base_uri": "https://localhost:8080/",
          "height": 424
        },
        "id": "E6DdrkZQAccp",
        "outputId": "37acb4ee-a66b-4756-eac0-8b1f7a2c81eb"
      },
      "execution_count": 20,
      "outputs": [
        {
          "output_type": "execute_result",
          "data": {
            "text/html": [
              "\n",
              "  <div id=\"df-d13aef69-f744-4e5b-8502-b3324a338715\">\n",
              "    <div class=\"colab-df-container\">\n",
              "      <div>\n",
              "<style scoped>\n",
              "    .dataframe tbody tr th:only-of-type {\n",
              "        vertical-align: middle;\n",
              "    }\n",
              "\n",
              "    .dataframe tbody tr th {\n",
              "        vertical-align: top;\n",
              "    }\n",
              "\n",
              "    .dataframe thead th {\n",
              "        text-align: right;\n",
              "    }\n",
              "</style>\n",
              "<table border=\"1\" class=\"dataframe\">\n",
              "  <thead>\n",
              "    <tr style=\"text-align: right;\">\n",
              "      <th></th>\n",
              "      <th>SG_UF_RESIDENCIA</th>\n",
              "      <th>NU_IDADE</th>\n",
              "      <th>Q001</th>\n",
              "      <th>Q002</th>\n",
              "      <th>Q005</th>\n",
              "      <th>Q006</th>\n",
              "    </tr>\n",
              "  </thead>\n",
              "  <tbody>\n",
              "    <tr>\n",
              "      <th>3</th>\n",
              "      <td>TO</td>\n",
              "      <td>25.0</td>\n",
              "      <td>C</td>\n",
              "      <td>E</td>\n",
              "      <td>4</td>\n",
              "      <td>E</td>\n",
              "    </tr>\n",
              "    <tr>\n",
              "      <th>4</th>\n",
              "      <td>MG</td>\n",
              "      <td>22.0</td>\n",
              "      <td>E</td>\n",
              "      <td>E</td>\n",
              "      <td>3</td>\n",
              "      <td>G</td>\n",
              "    </tr>\n",
              "    <tr>\n",
              "      <th>5</th>\n",
              "      <td>MT</td>\n",
              "      <td>37.0</td>\n",
              "      <td>B</td>\n",
              "      <td>B</td>\n",
              "      <td>7</td>\n",
              "      <td>E</td>\n",
              "    </tr>\n",
              "    <tr>\n",
              "      <th>6</th>\n",
              "      <td>BA</td>\n",
              "      <td>22.0</td>\n",
              "      <td>E</td>\n",
              "      <td>B</td>\n",
              "      <td>3</td>\n",
              "      <td>B</td>\n",
              "    </tr>\n",
              "    <tr>\n",
              "      <th>9</th>\n",
              "      <td>SP</td>\n",
              "      <td>17.0</td>\n",
              "      <td>E</td>\n",
              "      <td>E</td>\n",
              "      <td>5</td>\n",
              "      <td>F</td>\n",
              "    </tr>\n",
              "    <tr>\n",
              "      <th>...</th>\n",
              "      <td>...</td>\n",
              "      <td>...</td>\n",
              "      <td>...</td>\n",
              "      <td>...</td>\n",
              "      <td>...</td>\n",
              "      <td>...</td>\n",
              "    </tr>\n",
              "    <tr>\n",
              "      <th>5095257</th>\n",
              "      <td>MT</td>\n",
              "      <td>20.0</td>\n",
              "      <td>B</td>\n",
              "      <td>E</td>\n",
              "      <td>6</td>\n",
              "      <td>G</td>\n",
              "    </tr>\n",
              "    <tr>\n",
              "      <th>5095259</th>\n",
              "      <td>PI</td>\n",
              "      <td>37.0</td>\n",
              "      <td>A</td>\n",
              "      <td>A</td>\n",
              "      <td>4</td>\n",
              "      <td>C</td>\n",
              "    </tr>\n",
              "    <tr>\n",
              "      <th>5095260</th>\n",
              "      <td>SP</td>\n",
              "      <td>17.0</td>\n",
              "      <td>E</td>\n",
              "      <td>E</td>\n",
              "      <td>3</td>\n",
              "      <td>B</td>\n",
              "    </tr>\n",
              "    <tr>\n",
              "      <th>5095263</th>\n",
              "      <td>PA</td>\n",
              "      <td>33.0</td>\n",
              "      <td>H</td>\n",
              "      <td>E</td>\n",
              "      <td>3</td>\n",
              "      <td>E</td>\n",
              "    </tr>\n",
              "    <tr>\n",
              "      <th>5095264</th>\n",
              "      <td>SP</td>\n",
              "      <td>17.0</td>\n",
              "      <td>H</td>\n",
              "      <td>E</td>\n",
              "      <td>3</td>\n",
              "      <td>D</td>\n",
              "    </tr>\n",
              "  </tbody>\n",
              "</table>\n",
              "<p>3701947 rows × 6 columns</p>\n",
              "</div>\n",
              "      <button class=\"colab-df-convert\" onclick=\"convertToInteractive('df-d13aef69-f744-4e5b-8502-b3324a338715')\"\n",
              "              title=\"Convert this dataframe to an interactive table.\"\n",
              "              style=\"display:none;\">\n",
              "        \n",
              "  <svg xmlns=\"http://www.w3.org/2000/svg\" height=\"24px\"viewBox=\"0 0 24 24\"\n",
              "       width=\"24px\">\n",
              "    <path d=\"M0 0h24v24H0V0z\" fill=\"none\"/>\n",
              "    <path d=\"M18.56 5.44l.94 2.06.94-2.06 2.06-.94-2.06-.94-.94-2.06-.94 2.06-2.06.94zm-11 1L8.5 8.5l.94-2.06 2.06-.94-2.06-.94L8.5 2.5l-.94 2.06-2.06.94zm10 10l.94 2.06.94-2.06 2.06-.94-2.06-.94-.94-2.06-.94 2.06-2.06.94z\"/><path d=\"M17.41 7.96l-1.37-1.37c-.4-.4-.92-.59-1.43-.59-.52 0-1.04.2-1.43.59L10.3 9.45l-7.72 7.72c-.78.78-.78 2.05 0 2.83L4 21.41c.39.39.9.59 1.41.59.51 0 1.02-.2 1.41-.59l7.78-7.78 2.81-2.81c.8-.78.8-2.07 0-2.86zM5.41 20L4 18.59l7.72-7.72 1.47 1.35L5.41 20z\"/>\n",
              "  </svg>\n",
              "      </button>\n",
              "      \n",
              "  <style>\n",
              "    .colab-df-container {\n",
              "      display:flex;\n",
              "      flex-wrap:wrap;\n",
              "      gap: 12px;\n",
              "    }\n",
              "\n",
              "    .colab-df-convert {\n",
              "      background-color: #E8F0FE;\n",
              "      border: none;\n",
              "      border-radius: 50%;\n",
              "      cursor: pointer;\n",
              "      display: none;\n",
              "      fill: #1967D2;\n",
              "      height: 32px;\n",
              "      padding: 0 0 0 0;\n",
              "      width: 32px;\n",
              "    }\n",
              "\n",
              "    .colab-df-convert:hover {\n",
              "      background-color: #E2EBFA;\n",
              "      box-shadow: 0px 1px 2px rgba(60, 64, 67, 0.3), 0px 1px 3px 1px rgba(60, 64, 67, 0.15);\n",
              "      fill: #174EA6;\n",
              "    }\n",
              "\n",
              "    [theme=dark] .colab-df-convert {\n",
              "      background-color: #3B4455;\n",
              "      fill: #D2E3FC;\n",
              "    }\n",
              "\n",
              "    [theme=dark] .colab-df-convert:hover {\n",
              "      background-color: #434B5C;\n",
              "      box-shadow: 0px 1px 3px 1px rgba(0, 0, 0, 0.15);\n",
              "      filter: drop-shadow(0px 1px 2px rgba(0, 0, 0, 0.3));\n",
              "      fill: #FFFFFF;\n",
              "    }\n",
              "  </style>\n",
              "\n",
              "      <script>\n",
              "        const buttonEl =\n",
              "          document.querySelector('#df-d13aef69-f744-4e5b-8502-b3324a338715 button.colab-df-convert');\n",
              "        buttonEl.style.display =\n",
              "          google.colab.kernel.accessAllowed ? 'block' : 'none';\n",
              "\n",
              "        async function convertToInteractive(key) {\n",
              "          const element = document.querySelector('#df-d13aef69-f744-4e5b-8502-b3324a338715');\n",
              "          const dataTable =\n",
              "            await google.colab.kernel.invokeFunction('convertToInteractive',\n",
              "                                                     [key], {});\n",
              "          if (!dataTable) return;\n",
              "\n",
              "          const docLinkHtml = 'Like what you see? Visit the ' +\n",
              "            '<a target=\"_blank\" href=https://colab.research.google.com/notebooks/data_table.ipynb>data table notebook</a>'\n",
              "            + ' to learn more about interactive tables.';\n",
              "          element.innerHTML = '';\n",
              "          dataTable['output_type'] = 'display_data';\n",
              "          await google.colab.output.renderOutput(dataTable, element);\n",
              "          const docLink = document.createElement('div');\n",
              "          docLink.innerHTML = docLinkHtml;\n",
              "          element.appendChild(docLink);\n",
              "        }\n",
              "      </script>\n",
              "    </div>\n",
              "  </div>\n",
              "  "
            ],
            "text/plain": [
              "        SG_UF_RESIDENCIA  NU_IDADE Q001 Q002  Q005 Q006\n",
              "3                     TO      25.0    C    E     4    E\n",
              "4                     MG      22.0    E    E     3    G\n",
              "5                     MT      37.0    B    B     7    E\n",
              "6                     BA      22.0    E    B     3    B\n",
              "9                     SP      17.0    E    E     5    F\n",
              "...                  ...       ...  ...  ...   ...  ...\n",
              "5095257               MT      20.0    B    E     6    G\n",
              "5095259               PI      37.0    A    A     4    C\n",
              "5095260               SP      17.0    E    E     3    B\n",
              "5095263               PA      33.0    H    E     3    E\n",
              "5095264               SP      17.0    H    E     3    D\n",
              "\n",
              "[3701947 rows x 6 columns]"
            ]
          },
          "metadata": {},
          "execution_count": 20
        }
      ]
    },
    {
      "cell_type": "markdown",
      "source": [
        "# Label Encoder New"
      ],
      "metadata": {
        "id": "7TJdRlOlAlN7"
      }
    },
    {
      "cell_type": "code",
      "source": [
        "from sklearn.preprocessing import LabelEncoder"
      ],
      "metadata": {
        "id": "DmNxKjjVAm8G"
      },
      "execution_count": 21,
      "outputs": []
    },
    {
      "cell_type": "code",
      "source": [
        "label_encoder_MT = LabelEncoder()\n",
        "y_Enem_MT[:] = label_encoder_MT.fit_transform(y_Enem_MT[:])"
      ],
      "metadata": {
        "id": "LiJIfO5YAobD"
      },
      "execution_count": 23,
      "outputs": []
    },
    {
      "cell_type": "code",
      "source": [
        "X_Enem.columns"
      ],
      "metadata": {
        "colab": {
          "base_uri": "https://localhost:8080/"
        },
        "id": "eRB0PW-pAvDf",
        "outputId": "26d7457c-5d5e-49c8-ee0e-b3997531c053"
      },
      "execution_count": 24,
      "outputs": [
        {
          "output_type": "execute_result",
          "data": {
            "text/plain": [
              "Index(['SG_UF_RESIDENCIA', 'NU_IDADE', 'Q001', 'Q002', 'Q005', 'Q006'], dtype='object')"
            ]
          },
          "metadata": {},
          "execution_count": 24
        }
      ]
    },
    {
      "cell_type": "code",
      "source": [
        "X_Enem = X_Enem.iloc[:,:].values"
      ],
      "metadata": {
        "id": "-6XjhdmjAvez"
      },
      "execution_count": 25,
      "outputs": []
    },
    {
      "cell_type": "code",
      "source": [
        "label_encoder_SG_UF_RESIDENCIA = LabelEncoder()\n",
        "label_encoder_Q001 = LabelEncoder()\n",
        "label_encoder_Q002 = LabelEncoder()\n",
        "label_encoder_Q006 = LabelEncoder()"
      ],
      "metadata": {
        "id": "6Eyr_rbuAxhk"
      },
      "execution_count": 26,
      "outputs": []
    },
    {
      "cell_type": "code",
      "source": [
        "X_Enem[:,0] = label_encoder_SG_UF_RESIDENCIA.fit_transform(X_Enem[:,0])\n",
        "X_Enem[:,2] = label_encoder_Q001.fit_transform(X_Enem[:,2])\n",
        "X_Enem[:,3] = label_encoder_Q002.fit_transform(X_Enem[:,3])\n",
        "X_Enem[:,5] = label_encoder_Q006.fit_transform(X_Enem[:,5])"
      ],
      "metadata": {
        "id": "OjyuqkUEAz6z"
      },
      "execution_count": 27,
      "outputs": []
    },
    {
      "cell_type": "code",
      "source": [
        "X_Enem[0]"
      ],
      "metadata": {
        "colab": {
          "base_uri": "https://localhost:8080/"
        },
        "id": "iHrvdKJ6A1NS",
        "outputId": "06214449-2189-40e0-95c1-dc03595748ac"
      },
      "execution_count": 28,
      "outputs": [
        {
          "output_type": "execute_result",
          "data": {
            "text/plain": [
              "array([26, 25.0, 2, 4, 4, 4], dtype=object)"
            ]
          },
          "metadata": {},
          "execution_count": 28
        }
      ]
    },
    {
      "cell_type": "markdown",
      "source": [
        "# Gerar / Salvar Modelos de Treinamento"
      ],
      "metadata": {
        "id": "0dwg6YG3EgBU"
      }
    },
    {
      "cell_type": "code",
      "source": [
        "from sklearn.model_selection import train_test_split"
      ],
      "metadata": {
        "id": "EPPV0LGcA3M3"
      },
      "execution_count": 29,
      "outputs": []
    },
    {
      "cell_type": "code",
      "source": [
        "X_Enem_treinamento_MT, X_Enem_teste_MT, y_Enem_treinamento_MT, y_Enem_teste_MT = train_test_split(X_Enem, y_Enem_MT, test_size = 0.15, random_state = 0)\n",
        "X_Enem_treinamento_RD, X_Enem_teste_RD, y_Enem_treinamento_RD, y_Enem_teste_RD = train_test_split(X_Enem, y_Enem_RD, test_size = 0.15, random_state = 0)"
      ],
      "metadata": {
        "id": "XlEuK4D_A_AR"
      },
      "execution_count": 30,
      "outputs": []
    },
    {
      "cell_type": "code",
      "source": [
        "import pickle"
      ],
      "metadata": {
        "id": "gpxbt-V5BDIS"
      },
      "execution_count": 31,
      "outputs": []
    },
    {
      "cell_type": "code",
      "source": [
        "with open('/content/drive/MyDrive/Colab Notebooks/Dataframe/Enem_MT.pkl', mode = 'wb') as f:\n",
        "  pickle.dump([X_Enem_treinamento_MT, X_Enem_teste_MT, y_Enem_treinamento_MT, y_Enem_teste_MT], f)"
      ],
      "metadata": {
        "id": "QwWBviw9BGRh"
      },
      "execution_count": 32,
      "outputs": []
    },
    {
      "cell_type": "code",
      "source": [
        "with open('/content/drive/MyDrive/Colab Notebooks/Dataframe/Enem_RD.pkl', mode = 'wb') as f:\n",
        "  pickle.dump([X_Enem_treinamento_RD, X_Enem_teste_RD, y_Enem_treinamento_RD, y_Enem_teste_RD], f)"
      ],
      "metadata": {
        "id": "pdtaqSeTBGvx"
      },
      "execution_count": 33,
      "outputs": []
    },
    {
      "cell_type": "code",
      "source": [
        "X_Enem_treinamento_MT"
      ],
      "metadata": {
        "colab": {
          "base_uri": "https://localhost:8080/"
        },
        "id": "qrNgjgOcBI5S",
        "outputId": "e43f9532-47c3-4b4c-a3e1-30c1b00cb596"
      },
      "execution_count": 34,
      "outputs": [
        {
          "output_type": "execute_result",
          "data": {
            "text/plain": [
              "array([[11, 16.0, 4, 5, 4, 8],\n",
              "       [17, 17.0, 3, 4, 3, 6],\n",
              "       [4, 20.0, 4, 3, 6, 1],\n",
              "       ...,\n",
              "       [22, 18.0, 1, 4, 4, 3],\n",
              "       [8, 26.0, 4, 5, 5, 11],\n",
              "       [8, 41.0, 6, 4, 4, 3]], dtype=object)"
            ]
          },
          "metadata": {},
          "execution_count": 34
        }
      ]
    },
    {
      "cell_type": "markdown",
      "source": [
        "# Regressão Linear Multipla\n"
      ],
      "metadata": {
        "id": "gUjRDbXRA88C"
      }
    },
    {
      "cell_type": "code",
      "source": [
        "from sklearn.linear_model import LinearRegression\n",
        "regressor_multiplo_Enem = LinearRegression()\n",
        "regressor_multiplo_Enem.fit(X_Enem_treinamento_MT, y_Enem_treinamento_MT)"
      ],
      "metadata": {
        "colab": {
          "base_uri": "https://localhost:8080/"
        },
        "id": "0xDgxFOHCRfG",
        "outputId": "69bf31ea-26f3-499a-c272-e8222f5d0473"
      },
      "execution_count": 36,
      "outputs": [
        {
          "output_type": "execute_result",
          "data": {
            "text/plain": [
              "LinearRegression()"
            ]
          },
          "metadata": {},
          "execution_count": 36
        }
      ]
    },
    {
      "cell_type": "code",
      "source": [
        "regressor_multiplo_Enem.intercept_"
      ],
      "metadata": {
        "colab": {
          "base_uri": "https://localhost:8080/"
        },
        "id": "_l5XPLLkCRUu",
        "outputId": "e24f67ed-3b9c-44b4-de3b-8901e894ce26"
      },
      "execution_count": 37,
      "outputs": [
        {
          "output_type": "execute_result",
          "data": {
            "text/plain": [
              "1337.7242269755031"
            ]
          },
          "metadata": {},
          "execution_count": 37
        }
      ]
    },
    {
      "cell_type": "code",
      "source": [
        "regressor_multiplo_Enem.coef_"
      ],
      "metadata": {
        "colab": {
          "base_uri": "https://localhost:8080/"
        },
        "id": "0CUpYbVPC6Vk",
        "outputId": "666efd9e-c133-4274-c8a3-8f01b065773b"
      },
      "execution_count": 38,
      "outputs": [
        {
          "output_type": "execute_result",
          "data": {
            "text/plain": [
              "array([  2.98493837, -10.88056098,  18.80776485,  54.88529438,\n",
              "       -58.04235888, 125.7690599 ])"
            ]
          },
          "metadata": {},
          "execution_count": 38
        }
      ]
    },
    {
      "cell_type": "code",
      "source": [
        "len(regressor_multiplo_Enem.coef_)"
      ],
      "metadata": {
        "colab": {
          "base_uri": "https://localhost:8080/"
        },
        "id": "1bRCjWgiC_T2",
        "outputId": "527bedaa-512b-4fc1-ebe1-d8b131835fed"
      },
      "execution_count": 39,
      "outputs": [
        {
          "output_type": "execute_result",
          "data": {
            "text/plain": [
              "6"
            ]
          },
          "metadata": {},
          "execution_count": 39
        }
      ]
    },
    {
      "cell_type": "code",
      "source": [
        "regressor_multiplo_Enem.score(X_Enem_treinamento_MT, y_Enem_treinamento_MT)"
      ],
      "metadata": {
        "colab": {
          "base_uri": "https://localhost:8080/"
        },
        "id": "Xru9-rCRDEYx",
        "outputId": "20672755-78ca-4a06-c0de-c974ce465747"
      },
      "execution_count": 40,
      "outputs": [
        {
          "output_type": "execute_result",
          "data": {
            "text/plain": [
              "0.23979462132860407"
            ]
          },
          "metadata": {},
          "execution_count": 40
        }
      ]
    },
    {
      "cell_type": "code",
      "source": [
        "regressor_multiplo_Enem.score(X_Enem_teste_MT, y_Enem_teste_MT)"
      ],
      "metadata": {
        "colab": {
          "base_uri": "https://localhost:8080/"
        },
        "id": "BVG9h0CzDK6U",
        "outputId": "51213cf0-a58f-4f4a-aad6-061d62b3f50f"
      },
      "execution_count": 41,
      "outputs": [
        {
          "output_type": "execute_result",
          "data": {
            "text/plain": [
              "0.23982480617664925"
            ]
          },
          "metadata": {},
          "execution_count": 41
        }
      ]
    },
    {
      "cell_type": "code",
      "source": [
        "previsoes = regressor_multiplo_Enem.predict(X_Enem_teste_MT)\n",
        "previsoes"
      ],
      "metadata": {
        "colab": {
          "base_uri": "https://localhost:8080/"
        },
        "id": "7Sh6nhqiDSBO",
        "outputId": "b6e6a605-1874-4f32-bcce-436aea793406"
      },
      "execution_count": 42,
      "outputs": [
        {
          "output_type": "execute_result",
          "data": {
            "text/plain": [
              "array([2312.68226514, 2240.47879365, 1676.51228315, ..., 1331.51240911,\n",
              "       1106.1274762 , 1876.17055992])"
            ]
          },
          "metadata": {},
          "execution_count": 42
        }
      ]
    },
    {
      "cell_type": "code",
      "source": [
        "y_Enem_MT"
      ],
      "metadata": {
        "colab": {
          "base_uri": "https://localhost:8080/"
        },
        "id": "LzsoNq_GDblf",
        "outputId": "a6016e49-2368-4689-e32c-42c2ae9d0841"
      },
      "execution_count": 43,
      "outputs": [
        {
          "output_type": "execute_result",
          "data": {
            "text/plain": [
              "array([ 331., 3181., 3164., ...,  318., 1394.,  306.])"
            ]
          },
          "metadata": {},
          "execution_count": 43
        }
      ]
    },
    {
      "cell_type": "code",
      "source": [
        "from sklearn.metrics import mean_absolute_error\n",
        "mean_absolute_error(y_Enem_teste_MT, previsoes)"
      ],
      "metadata": {
        "colab": {
          "base_uri": "https://localhost:8080/"
        },
        "id": "I1LxGRGyDeaA",
        "outputId": "302ebf4f-1579-42cd-a660-d8b7a6396681"
      },
      "execution_count": 45,
      "outputs": [
        {
          "output_type": "execute_result",
          "data": {
            "text/plain": [
              "768.668680484005"
            ]
          },
          "metadata": {},
          "execution_count": 45
        }
      ]
    },
    {
      "cell_type": "code",
      "source": [
        "microdadosEnem, y_Enem_MT"
      ],
      "metadata": {
        "colab": {
          "base_uri": "https://localhost:8080/"
        },
        "id": "MsWSuC4TDnZ7",
        "outputId": "94865b7a-2b4c-4f03-ac73-807cb6761fa2"
      },
      "execution_count": 47,
      "outputs": [
        {
          "output_type": "execute_result",
          "data": {
            "text/plain": [
              "(        SG_UF_RESIDENCIA  NU_IDADE Q001 Q002  Q005 Q006\n",
              " 3                     TO      25.0    C    E     4    E\n",
              " 4                     MG      22.0    E    E     3    G\n",
              " 5                     MT      37.0    B    B     7    E\n",
              " 6                     BA      22.0    E    B     3    B\n",
              " 9                     SP      17.0    E    E     5    F\n",
              " ...                  ...       ...  ...  ...   ...  ...\n",
              " 5095257               MT      20.0    B    E     6    G\n",
              " 5095259               PI      37.0    A    A     4    C\n",
              " 5095260               SP      17.0    E    E     3    B\n",
              " 5095263               PA      33.0    H    E     3    E\n",
              " 5095264               SP      17.0    H    E     3    D\n",
              " \n",
              " [3701947 rows x 6 columns],\n",
              " array([ 331., 3181., 3164., ...,  318., 1394.,  306.]))"
            ]
          },
          "metadata": {},
          "execution_count": 47
        }
      ]
    },
    {
      "cell_type": "code",
      "source": [
        "type(y_Enem_MT)"
      ],
      "metadata": {
        "colab": {
          "base_uri": "https://localhost:8080/"
        },
        "id": "hC6jjol8GqzR",
        "outputId": "601cf59d-9cee-452e-f27b-4dcac0d4560c"
      },
      "execution_count": 48,
      "outputs": [
        {
          "output_type": "execute_result",
          "data": {
            "text/plain": [
              "numpy.ndarray"
            ]
          },
          "metadata": {},
          "execution_count": 48
        }
      ]
    },
    {
      "cell_type": "code",
      "source": [
        "X_Enem_MT = microdadosEnem.iloc[:,1].values"
      ],
      "metadata": {
        "id": "Sko-Lk37GuyK"
      },
      "execution_count": 54,
      "outputs": []
    },
    {
      "cell_type": "code",
      "source": [
        "type(X_Enem_MT)"
      ],
      "metadata": {
        "colab": {
          "base_uri": "https://localhost:8080/"
        },
        "id": "wEiOdXusHBCp",
        "outputId": "e2aba222-0570-4abf-db90-794d460f596f"
      },
      "execution_count": 55,
      "outputs": [
        {
          "output_type": "execute_result",
          "data": {
            "text/plain": [
              "numpy.ndarray"
            ]
          },
          "metadata": {},
          "execution_count": 55
        }
      ]
    },
    {
      "cell_type": "code",
      "source": [
        "np.corrcoef(X_Enem_MT,y_Enem_MT)"
      ],
      "metadata": {
        "colab": {
          "base_uri": "https://localhost:8080/"
        },
        "id": "KRXt7ALwGhKz",
        "outputId": "53ac09bc-a2a4-4aca-9bf3-61d95b5fe7e5"
      },
      "execution_count": 56,
      "outputs": [
        {
          "output_type": "execute_result",
          "data": {
            "text/plain": [
              "array([[ 1.        , -0.13926875],\n",
              "       [-0.13926875,  1.        ]])"
            ]
          },
          "metadata": {},
          "execution_count": 56
        }
      ]
    },
    {
      "cell_type": "code",
      "source": [
        ""
      ],
      "metadata": {
        "id": "ItaITUr4IcmN"
      },
      "execution_count": null,
      "outputs": []
    }
  ]
}